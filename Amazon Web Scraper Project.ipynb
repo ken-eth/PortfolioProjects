{
 "cells": [
  {
   "cell_type": "code",
   "execution_count": 37,
   "id": "2678e0db",
   "metadata": {},
   "outputs": [],
   "source": [
    "# Import libraries\n",
    "\n",
    "\n",
    "from bs4 import BeautifulSoup\n",
    "import requests\n",
    "import smtplib\n",
    "import time\n",
    "import datetime\n"
   ]
  },
  {
   "cell_type": "code",
   "execution_count": 66,
   "id": "dfc0425d",
   "metadata": {},
   "outputs": [
    {
     "name": "stdout",
     "output_type": "stream",
     "text": [
      "\n",
      "            Final Fantasy VII Rebirth - Exclusive Amazon Edition (PS5)\n",
      "           \n",
      "59.59\n"
     ]
    }
   ],
   "source": [
    "# Connect to website\n",
    "\n",
    "URL = 'https://www.amazon.com/Final-Fantasy-VII-Rebirth-PlayStation-5/dp/B0CGXZQ4CD/ref=sr_1_1?crid=2KK4KSTGWNW4J&dib=eyJ2IjoiMSJ9.BICJWxq1GzRwvyR3Wy5v1eynkmzPhxnvAQGAnYhOPpyfGASgMoApLD5keZi386pcVnav-oSCVLEneChugiaZeBiHZR2xhSA2q_qsYaasqP_8-MVXYKmCoiiroHc5OD-HGUHafgCTsU5J30L53d2SeQG1jpwCRolC-iAOYbPd2h3Psanl_FHpwsn25JhveGx5G1iwFIn_fMZEG-Rr-mX0QNe1IfFlSLnmM-Srmbz_9o0.Nz-bJf0rIOdi1pINfcnyLhvANha0TJ4Pg1SfUXGBt_c&dib_tag=se&keywords=final%2Bfantasy%2B7%2Brebirth%2Bps5&qid=1715787915&sprefix=final%2Bfantasy%2B%2Caps%2C119&sr=8-1&th=1'\n",
    "\n",
    "\n",
    "#headers = {\"User-Agent\": \"Mozilla/5.0 (Windows NT 10.0; Win64; x64) AppleWebKit/537.36 (KHTML, like Gecko) Chrome/124.0.0.0 Safari/537.36\"}\n",
    "           \n",
    "page = requests.get(URL)   \n",
    "           \n",
    "\n",
    "soup1 = BeautifulSoup(page.content, \"html.parser\")\n",
    "\n",
    "soup2= BeautifulSoup(soup1.prettify(), \"html.parser\")\n",
    "           \n",
    "title = soup2.find(id=\"productTitle\").get_text()\n",
    "\n",
    "#price_symbol = soup2.find(class_='a-price-symbol').get_text(strip=True)\n",
    "price_whole = soup2.find(class_=\"a-price-whole\").get_text(strip=True)\n",
    "price_fraction = soup2.find(class_='a-price-fraction').get_text(strip=True)\n",
    "price = f'{price_whole}{price_fraction}'\n",
    "\n",
    "\n",
    "print(title)\n",
    "print(price)"
   ]
  },
  {
   "cell_type": "code",
   "execution_count": 68,
   "id": "02431140",
   "metadata": {},
   "outputs": [
    {
     "name": "stdout",
     "output_type": "stream",
     "text": [
      "Final Fantasy VII Rebirth - Exclusive Amazon Edition (PS5)\n",
      "59.59\n"
     ]
    },
    {
     "data": {
      "text/plain": [
       "str"
      ]
     },
     "execution_count": 68,
     "metadata": {},
     "output_type": "execute_result"
    }
   ],
   "source": [
    "title = title.strip()\n",
    "\n",
    "print(title)\n",
    "print(price)"
   ]
  },
  {
   "cell_type": "code",
   "execution_count": 92,
   "id": "b18b056c",
   "metadata": {},
   "outputs": [
    {
     "name": "stdout",
     "output_type": "stream",
     "text": [
      "2024-05-15\n"
     ]
    }
   ],
   "source": [
    "import datetime\n",
    "\n",
    "today = datetime.date.today()\n",
    "\n",
    "print(today)"
   ]
  },
  {
   "cell_type": "code",
   "execution_count": 119,
   "id": "5341877d",
   "metadata": {},
   "outputs": [],
   "source": [
    "import csv\n",
    "\n",
    "header = ['Title', 'Price', 'Date']\n",
    "data = [title, price, today]\n",
    "\n",
    "\n",
    "#with open('AmazonWebScraperDataset.csv', 'w', newline='', encoding='UTF8') as f:\n",
    "    \n",
    "    #writer = csv.writer(f)\n",
    "    #writer.writerow(header)\n",
    "    #writer.writerow(data)\n",
    "    "
   ]
  },
  {
   "cell_type": "code",
   "execution_count": 108,
   "id": "e07bbf7d",
   "metadata": {},
   "outputs": [
    {
     "name": "stdout",
     "output_type": "stream",
     "text": [
      "  Final Fantasy VII Rebirth - Exclusive Amazon Edition (PS5)  59.59  \\\n",
      "0  Final Fantasy VII Rebirth - Exclusive Amazon E...          59.59   \n",
      "\n",
      "   2024-05-15  \n",
      "0  2024-05-15  \n"
     ]
    }
   ],
   "source": [
    "import pandas as pd\n",
    "\n",
    "df = pd.read_csv(r'C:\\Users\\kenne\\AmazonWebScraperDataset.csv')\n",
    "\n",
    "print(df)"
   ]
  },
  {
   "cell_type": "code",
   "execution_count": 107,
   "id": "a199e304",
   "metadata": {},
   "outputs": [],
   "source": [
    "#Appending data to the csv\n",
    "\n",
    "\n",
    "with open('AmazonWebScraperDataset.csv', 'a+', newline='', encoding='UTF8') as f:\n",
    "    writer = csv.writer(f)\n",
    "    writer.writerow(data)\n"
   ]
  },
  {
   "cell_type": "code",
   "execution_count": 125,
   "id": "adcf60b3",
   "metadata": {},
   "outputs": [],
   "source": [
    "def check_price():\n",
    "    \n",
    "    URL = 'https://www.amazon.com/Final-Fantasy-VII-Rebirth-PlayStation-5/dp/B0CGXZQ4CD/ref=sr_1_1?crid=2KK4KSTGWNW4J&dib=eyJ2IjoiMSJ9.BICJWxq1GzRwvyR3Wy5v1eynkmzPhxnvAQGAnYhOPpyfGASgMoApLD5keZi386pcVnav-oSCVLEneChugiaZeBiHZR2xhSA2q_qsYaasqP_8-MVXYKmCoiiroHc5OD-HGUHafgCTsU5J30L53d2SeQG1jpwCRolC-iAOYbPd2h3Psanl_FHpwsn25JhveGx5G1iwFIn_fMZEG-Rr-mX0QNe1IfFlSLnmM-Srmbz_9o0.Nz-bJf0rIOdi1pINfcnyLhvANha0TJ4Pg1SfUXGBt_c&dib_tag=se&keywords=final%2Bfantasy%2B7%2Brebirth%2Bps5&qid=1715787915&sprefix=final%2Bfantasy%2B%2Caps%2C119&sr=8-1&th=1'\n",
    "\n",
    "\n",
    "#headers = {\"User-Agent\": \"Mozilla/5.0 (Windows NT 10.0; Win64; x64) AppleWebKit/537.36 (KHTML, like Gecko) Chrome/124.0.0.0 Safari/537.36\"}\n",
    "           \n",
    "    page = requests.get(URL)   \n",
    "           \n",
    "    soup1 = BeautifulSoup(page.content, \"html.parser\")\n",
    "\n",
    "    soup2= BeautifulSoup(soup1.prettify(), \"html.parser\")\n",
    "           \n",
    "    title = soup2.find(id=\"productTitle\").get_text()\n",
    "\n",
    "#price_symbol = soup2.find(class_='a-price-symbol').get_text(strip=True)\n",
    "    price_whole = soup2.find(class_=\"a-price-whole\").get_text(strip=True)\n",
    "    price_fraction = soup2.find(class_='a-price-fraction').get_text(strip=True)\n",
    "    price = f'{price_whole}{price_fraction}'\n",
    "\n",
    "    title = title.strip()\n",
    "\n",
    "    import datetime\n",
    "\n",
    "    today = datetime.date.today()\n",
    "\n",
    "    \n",
    "    import csv\n",
    "\n",
    "    header = ['Title', 'Price', 'Date']\n",
    "    data = [title, price, today]\n",
    "    \n",
    "    with open('AmazonWebScraperDataset.csv', 'a+', newline='', encoding='UTF8') as f:\n",
    "        writer = csv.writer(f)\n",
    "        writer.writerow(data)\n",
    "        \n",
    "        #if(price < 40):\n",
    "            #send_mail()\n"
   ]
  },
  {
   "cell_type": "code",
   "execution_count": 123,
   "id": "56fa8926",
   "metadata": {},
   "outputs": [
    {
     "ename": "KeyboardInterrupt",
     "evalue": "",
     "output_type": "error",
     "traceback": [
      "\u001b[1;31m---------------------------------------------------------------------------\u001b[0m",
      "\u001b[1;31mKeyboardInterrupt\u001b[0m                         Traceback (most recent call last)",
      "Cell \u001b[1;32mIn[123], line 3\u001b[0m\n\u001b[0;32m      1\u001b[0m \u001b[38;5;28;01mwhile\u001b[39;00m(\u001b[38;5;28;01mTrue\u001b[39;00m):\n\u001b[0;32m      2\u001b[0m     check_price()\n\u001b[1;32m----> 3\u001b[0m     time\u001b[38;5;241m.\u001b[39msleep(\u001b[38;5;241m5\u001b[39m)\n",
      "\u001b[1;31mKeyboardInterrupt\u001b[0m: "
     ]
    }
   ],
   "source": [
    "while(True):\n",
    "    check_price()\n",
    "    time.sleep(84600)"
   ]
  },
  {
   "cell_type": "code",
   "execution_count": 124,
   "id": "30b51628",
   "metadata": {},
   "outputs": [
    {
     "data": {
      "text/html": [
       "<div>\n",
       "<style scoped>\n",
       "    .dataframe tbody tr th:only-of-type {\n",
       "        vertical-align: middle;\n",
       "    }\n",
       "\n",
       "    .dataframe tbody tr th {\n",
       "        vertical-align: top;\n",
       "    }\n",
       "\n",
       "    .dataframe thead th {\n",
       "        text-align: right;\n",
       "    }\n",
       "</style>\n",
       "<table border=\"1\" class=\"dataframe\">\n",
       "  <thead>\n",
       "    <tr style=\"text-align: right;\">\n",
       "      <th></th>\n",
       "      <th>Title</th>\n",
       "      <th>Price</th>\n",
       "      <th>Date</th>\n",
       "    </tr>\n",
       "  </thead>\n",
       "  <tbody>\n",
       "    <tr>\n",
       "      <th>0</th>\n",
       "      <td>Final Fantasy VII Rebirth - Exclusive Amazon E...</td>\n",
       "      <td>59.59</td>\n",
       "      <td>2024-05-15</td>\n",
       "    </tr>\n",
       "    <tr>\n",
       "      <th>1</th>\n",
       "      <td>Final Fantasy VII Rebirth - Exclusive Amazon E...</td>\n",
       "      <td>59.59</td>\n",
       "      <td>2024-05-15</td>\n",
       "    </tr>\n",
       "    <tr>\n",
       "      <th>2</th>\n",
       "      <td>Final Fantasy VII Rebirth - Exclusive Amazon E...</td>\n",
       "      <td>59.59</td>\n",
       "      <td>2024-05-15</td>\n",
       "    </tr>\n",
       "    <tr>\n",
       "      <th>3</th>\n",
       "      <td>Final Fantasy VII Rebirth - Exclusive Amazon E...</td>\n",
       "      <td>59.59</td>\n",
       "      <td>2024-05-15</td>\n",
       "    </tr>\n",
       "    <tr>\n",
       "      <th>4</th>\n",
       "      <td>Final Fantasy VII Rebirth - Exclusive Amazon E...</td>\n",
       "      <td>59.59</td>\n",
       "      <td>2024-05-15</td>\n",
       "    </tr>\n",
       "  </tbody>\n",
       "</table>\n",
       "</div>"
      ],
      "text/plain": [
       "                                               Title  Price        Date\n",
       "0  Final Fantasy VII Rebirth - Exclusive Amazon E...  59.59  2024-05-15\n",
       "1  Final Fantasy VII Rebirth - Exclusive Amazon E...  59.59  2024-05-15\n",
       "2  Final Fantasy VII Rebirth - Exclusive Amazon E...  59.59  2024-05-15\n",
       "3  Final Fantasy VII Rebirth - Exclusive Amazon E...  59.59  2024-05-15\n",
       "4  Final Fantasy VII Rebirth - Exclusive Amazon E...  59.59  2024-05-15"
      ]
     },
     "execution_count": 124,
     "metadata": {},
     "output_type": "execute_result"
    }
   ],
   "source": [
    "import pandas as pd\n",
    "\n",
    "df = pd.read_csv(r'C:\\Users\\kenne\\AmazonWebScraperDataset.csv')\n",
    "\n",
    "df"
   ]
  },
  {
   "cell_type": "code",
   "execution_count": null,
   "id": "ed33c28a",
   "metadata": {},
   "outputs": [],
   "source": []
  }
 ],
 "metadata": {
  "kernelspec": {
   "display_name": "Python 3 (ipykernel)",
   "language": "python",
   "name": "python3"
  },
  "language_info": {
   "codemirror_mode": {
    "name": "ipython",
    "version": 3
   },
   "file_extension": ".py",
   "mimetype": "text/x-python",
   "name": "python",
   "nbconvert_exporter": "python",
   "pygments_lexer": "ipython3",
   "version": "3.11.7"
  }
 },
 "nbformat": 4,
 "nbformat_minor": 5
}
